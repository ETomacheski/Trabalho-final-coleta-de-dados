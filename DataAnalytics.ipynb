{
 "cells": [
  {
   "cell_type": "markdown",
   "metadata": {},
   "source": [
    "# Analise dos dados"
   ]
  },
  {
   "cell_type": "markdown",
   "metadata": {},
   "source": [
    "Vamos iniciar carregando os dados do dataset preparado no notebook de `DataPreparation.ipynb`"
   ]
  },
  {
   "cell_type": "code",
   "execution_count": null,
   "metadata": {},
   "outputs": [],
   "source": [
    "# -*- coding: utf-8 -*-\n",
    "\n",
    "import numpy as np # importa a biblioteca usada para trabalhar com vetores e matrizes\n",
    "import pandas as pd # importa a biblioteca usada para trabalhar com dataframes (dados em formato de tabela) e análise de dados\n",
    "\n",
    "# bibliotecas usadas para geracao de graficos\n",
    "import seaborn as sns\n",
    "import matplotlib.pyplot as plt"
   ]
  },
  {
   "cell_type": "code",
   "execution_count": null,
   "metadata": {},
   "outputs": [],
   "source": [
    "df_dataset = pd.read_csv( './dataset-canditatos-receita-e-votos.csv', encoding='latin1', sep=';')\n",
    "\n",
    "df_governador = df_dataset[df_dataset['DS_CARGO'] == 'GOVERNADOR']\n",
    "df_governador = df_governador[df_governador['NR_TURNO'] == 1]\n",
    "labels = df_governador['TOTAL_RECEITA']\n",
    "\n",
    "labels.head()"
   ]
  },
  {
   "cell_type": "markdown",
   "metadata": {},
   "source": [
    "Agora vamos gerar um grafico para analisar o gastos x numeros de votos para os governadores do rio grande do sul. "
   ]
  },
  {
   "cell_type": "code",
   "execution_count": null,
   "metadata": {},
   "outputs": [],
   "source": [
    "df_governador = df_dataset[df_dataset['DS_CARGO'] == 'GOVERNADOR']\n",
    "df_governador = df_governador[df_governador['NR_TURNO'] == 1]\n",
    "\n",
    "plt.figure(figsize=(10, 6))\n",
    "\n",
    "# Gráficos com escala logarítmica\n",
    "plt.bar(df_governador['NM_CANDIDATO'], df_governador['QT_VOTOS'], color='blue', alpha=0.6, label='Número de Votos')\n",
    "plt.bar(df_governador['NM_CANDIDATO'], df_governador['TOTAL_RECEITA'], color='orange', alpha=0.6, label='Total Receita')\n",
    "\n",
    "# Ajustar escala logarítmica\n",
    "plt.yscale('log')\n",
    "plt.xlabel('Candidatos')\n",
    "plt.ylabel('Valores (log)')\n",
    "plt.title('Comparação em Escala Logarítmica: Número de Votos vs Total Receita')\n",
    "plt.xticks(rotation=270)\n",
    "plt.legend()\n",
    "plt.tight_layout()\n",
    "plt.show()"
   ]
  },
  {
   "cell_type": "markdown",
   "metadata": {},
   "source": [
    "Agora vamos dar uma olhada nos graficos individuais de quantidade de votos e o total de receita."
   ]
  },
  {
   "cell_type": "code",
   "execution_count": null,
   "metadata": {},
   "outputs": [],
   "source": [
    "# Configurar os dados\n",
    "labels = df_governador['NM_CANDIDATO']\n",
    "qt_votos = df_governador['QT_VOTOS']\n",
    "total_receita = df_governador['TOTAL_RECEITA']\n",
    "\n",
    "# Criar a figura\n",
    "fig, axs = plt.subplots(2, 1, figsize=(10, 10), sharex=True)\n",
    "\n",
    "# Gráfico de Número de Votos\n",
    "axs[0].bar(labels, qt_votos, color='blue', alpha=0.7)\n",
    "axs[0].set_title('Número de Votos por Candidato')\n",
    "axs[0].set_ylabel('Número de Votos')\n",
    "axs[0].tick_params(axis='x', rotation=270)\n",
    "\n",
    "# Gráfico de Total Receita\n",
    "axs[1].bar(labels, total_receita, color='orange', alpha=0.7)\n",
    "axs[1].set_title('Total Receita por Candidato')\n",
    "axs[1].set_ylabel('Total Receita')\n",
    "axs[1].tick_params(axis='x', rotation=270)\n",
    "\n",
    "# Ajustar o layout\n",
    "plt.xlabel('Candidatos')\n",
    "plt.tight_layout()\n",
    "plt.show()"
   ]
  },
  {
   "cell_type": "markdown",
   "metadata": {},
   "source": [
    "Agora vamos realizar os mesmos graficos para os candidatos 10 mais votados Deputados Federais."
   ]
  },
  {
   "cell_type": "code",
   "execution_count": null,
   "metadata": {},
   "outputs": [],
   "source": [
    "# Filtrar apenas candidatos a deputado federal\n",
    "df_deputado_federal = df_dataset[df_dataset['DS_CARGO'] == 'DEPUTADO FEDERAL']\n",
    "\n",
    "# Ordenar pelo número de votos e selecionar os 10 mais votados\n",
    "top_10_deputados = df_deputado_federal.sort_values(by='QT_VOTOS', ascending=False).head(10)\n",
    "\n",
    "# Configurar os dados para o gráfico\n",
    "labels = top_10_deputados['NM_CANDIDATO']\n",
    "qt_votos = top_10_deputados['QT_VOTOS']\n",
    "\n",
    "# Criar o gráfico de barras\n",
    "plt.figure(figsize=(12, 6))\n",
    "bars = plt.bar(labels, qt_votos, color='green', alpha=0.8)\n",
    "\n",
    "# Adicionar rótulos de valor em cima das barras\n",
    "for bar, votos in zip(bars, qt_votos):\n",
    "    plt.text(bar.get_x() + bar.get_width() / 2, bar.get_height() + 0.05 * bar.get_height(),\n",
    "             f'{int(votos)}', ha='center', va='bottom', fontsize=8)\n",
    "\n",
    "# Configurações do gráfico\n",
    "plt.title('Top 10 Candidatos a Deputado Federal Mais Votados')\n",
    "plt.xlabel('Candidatos')\n",
    "plt.ylabel('Número de Votos')\n",
    "plt.xticks(rotation=45, ha='right')\n",
    "plt.tight_layout()\n",
    "plt.show()"
   ]
  },
  {
   "cell_type": "markdown",
   "metadata": {},
   "source": [
    "Agora vamos fazer o comparativo de receita vs votos"
   ]
  },
  {
   "cell_type": "code",
   "execution_count": null,
   "metadata": {},
   "outputs": [],
   "source": [
    "plt.figure(figsize=(10, 6))\n",
    "\n",
    "# Gráficos com escala logarítmica\n",
    "plt.bar(top_10_deputados['NM_CANDIDATO'], top_10_deputados['QT_VOTOS'], color='blue', alpha=0.6, label='Número de Votos')\n",
    "plt.bar(top_10_deputados['NM_CANDIDATO'], top_10_deputados['TOTAL_RECEITA'], color='orange', alpha=0.6, label='Total Receita')\n",
    "\n",
    "# Ajustar escala logarítmica\n",
    "plt.yscale('log')\n",
    "plt.xlabel('Candidatos')\n",
    "plt.ylabel('Valores (log)')\n",
    "plt.title('Comparação em Escala Logarítmica: Número de Votos vs Total Receita')\n",
    "plt.xticks(rotation=270)\n",
    "plt.legend()\n",
    "plt.tight_layout()\n",
    "plt.show()"
   ]
  },
  {
   "cell_type": "markdown",
   "metadata": {},
   "source": [
    "Agora vamos fazer fazer os graficos dos 10 deputados estaduais mais votados. "
   ]
  },
  {
   "cell_type": "code",
   "execution_count": null,
   "metadata": {},
   "outputs": [],
   "source": [
    "# Filtrar apenas candidatos a deputado federal\n",
    "df_estadual = df_dataset[df_dataset['DS_CARGO'] == 'DEPUTADO ESTADUAL']\n",
    "\n",
    "# Ordenar pelo número de votos e selecionar os 10 mais votados\n",
    "top_10_deputados = df_estadual.sort_values(by='QT_VOTOS', ascending=False).head(10)\n",
    "\n",
    "# Configurar os dados para o gráfico\n",
    "labels = top_10_deputados['NM_CANDIDATO']\n",
    "qt_votos = top_10_deputados['QT_VOTOS']\n",
    "\n",
    "# Criar o gráfico de barras\n",
    "plt.figure(figsize=(12, 6))\n",
    "bars = plt.bar(labels, qt_votos, color='green', alpha=0.8)\n",
    "\n",
    "# Adicionar rótulos de valor em cima das barras\n",
    "for bar, votos in zip(bars, qt_votos):\n",
    "    plt.text(bar.get_x() + bar.get_width() / 2, bar.get_height() + 0.05 * bar.get_height(),\n",
    "             f'{int(votos)}', ha='center', va='bottom', fontsize=8)\n",
    "\n",
    "# Configurações do gráfico\n",
    "plt.title('Top 10 Candidatos a Deputado Federal Mais Votados')\n",
    "plt.xlabel('Candidatos')\n",
    "plt.ylabel('Número de Votos')\n",
    "plt.xticks(rotation=45, ha='right')\n",
    "plt.tight_layout()\n",
    "plt.show()"
   ]
  },
  {
   "cell_type": "markdown",
   "metadata": {},
   "source": [
    "Por último vamos verificar a quatidade de votos vs o total de receita"
   ]
  },
  {
   "cell_type": "code",
   "execution_count": null,
   "metadata": {},
   "outputs": [],
   "source": [
    "plt.figure(figsize=(10, 6))\n",
    "\n",
    "# Gráficos com escala logarítmica\n",
    "plt.bar(top_10_deputados['NM_CANDIDATO'], top_10_deputados['QT_VOTOS'], color='blue', alpha=0.6, label='Número de Votos')\n",
    "plt.bar(top_10_deputados['NM_CANDIDATO'], top_10_deputados['TOTAL_RECEITA'], color='orange', alpha=0.6, label='Total Receita')\n",
    "\n",
    "# Ajustar escala logarítmica\n",
    "plt.yscale('log')\n",
    "plt.xlabel('Candidatos')\n",
    "plt.ylabel('Valores (log)')\n",
    "plt.title('Comparação em Escala Logarítmica: Número de Votos vs Total Receita')\n",
    "plt.xticks(rotation=270)\n",
    "plt.legend()\n",
    "plt.tight_layout()\n",
    "plt.show()"
   ]
  }
 ],
 "metadata": {
  "kernelspec": {
   "display_name": "t3Coleta",
   "language": "python",
   "name": "python3"
  },
  "language_info": {
   "codemirror_mode": {
    "name": "ipython",
    "version": 3
   },
   "file_extension": ".py",
   "mimetype": "text/x-python",
   "name": "python",
   "nbconvert_exporter": "python",
   "pygments_lexer": "ipython3",
   "version": "3.7.1"
  }
 },
 "nbformat": 4,
 "nbformat_minor": 2
}
