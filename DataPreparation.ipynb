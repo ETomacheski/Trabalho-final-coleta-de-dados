{
 "cells": [
  {
   "cell_type": "markdown",
   "metadata": {
    "vscode": {
     "languageId": "plaintext"
    }
   },
   "source": [
    "# Data Preparation"
   ]
  },
  {
   "cell_type": "markdown",
   "metadata": {
    "vscode": {
     "languageId": "plaintext"
    }
   },
   "source": [
    "---\n",
    "## Carregando os dados\n",
    "\n",
    "Primeiro, vamos importar todas as bibliotecas que serão utilizadas ao longo deste exercício."
   ]
  },
  {
   "cell_type": "code",
   "execution_count": null,
   "metadata": {},
   "outputs": [],
   "source": [
    "# -*- coding: utf-8 -*-\n",
    "\n",
    "import numpy as np # importa a biblioteca usada para trabalhar com vetores e matrizes\n",
    "import pandas as pd # importa a biblioteca usada para trabalhar com dataframes (dados em formato de tabela) e análise de dados\n",
    "\n",
    "# bibliotecas usadas para geracao de graficos\n",
    "import seaborn as sns\n",
    "import matplotlib.pyplot as plt"
   ]
  },
  {
   "cell_type": "markdown",
   "metadata": {},
   "source": [
    "Agora vamos carregar o dataset de receita por candidato em 2022 do RS para fazer sua preparação"
   ]
  },
  {
   "cell_type": "code",
   "execution_count": null,
   "metadata": {},
   "outputs": [],
   "source": [
    "df_receita_candidatos = pd.read_csv( 'datasets/receitas_candidatos_2022_RS.csv', encoding='latin1', sep=';') "
   ]
  },
  {
   "cell_type": "markdown",
   "metadata": {},
   "source": [
    "Para entendermos melhor o dataset a seguir vamos olhar as 10 primeiras linhas"
   ]
  },
  {
   "cell_type": "code",
   "execution_count": null,
   "metadata": {},
   "outputs": [],
   "source": [
    "pd.set_option('display.max_columns', None)\n",
    "df_receita_candidatos.head(n=10)"
   ]
  },
  {
   "cell_type": "markdown",
   "metadata": {},
   "source": [
    "Depois de entender melhor os dados vimos que nessa planilha tem algumas colunas desnecessarias, então vamos exluir elas abaixo."
   ]
  },
  {
   "cell_type": "code",
   "execution_count": null,
   "metadata": {},
   "outputs": [],
   "source": [
    "df_receita_candidatos.drop(['DT_GERACAO',\n",
    "'HH_GERACAO',\n",
    "'ANO_ELEICAO',\n",
    "'CD_TIPO_ELEICAO',\n",
    "'NM_TIPO_ELEICAO',\n",
    "'CD_ELEICAO',\n",
    "'DS_ELEICAO',\n",
    "'DT_ELEICAO',\n",
    "'ST_TURNO',\n",
    "'SQ_PRESTADOR_CONTAS',\n",
    "'SG_UE',\n",
    "'NM_UE',\n",
    "'NR_CPF_CANDIDATO',\n",
    "'CD_CNAE_DOADOR',\n",
    "'DS_CNAE_DOADOR',\n",
    "'NR_CPF_CNPJ_DOADOR',\n",
    "'NM_DOADOR',\n",
    "'NM_DOADOR_RFB',\n",
    "'DS_ESFERA_PARTIDARIA_DOADOR',\n",
    "'NM_MUNICIPIO_DOADOR',\n",
    "'SQ_CANDIDATO_DOADOR',\n",
    "'NR_CANDIDATO_DOADOR',\n",
    "'CD_CARGO_CANDIDATO_DOADOR',\n",
    "'DS_CARGO_CANDIDATO_DOADOR',\n",
    "'NR_PARTIDO_DOADOR',\n",
    "'SG_PARTIDO_DOADOR',\n",
    "'NM_PARTIDO_DOADOR',\n",
    "'NR_RECIBO_DOACAO',\n",
    "'NR_DOCUMENTO_DOACAO',\n",
    "'SQ_RECEITA',\n",
    "'DT_RECEITA',\n",
    "'DS_GENERO',\n",
    "'DS_COR_RACA', 'SG_UF_DOADOR', 'DS_NATUREZA_RECURSO_ESTIMAVEL', 'DS_RECEITA'], axis=1, inplace=True)"
   ]
  },
  {
   "cell_type": "code",
   "execution_count": null,
   "metadata": {},
   "outputs": [],
   "source": [
    "pd.set_option('display.max_columns', None)\n",
    "df_receita_candidatos.head(n=3, )"
   ]
  },
  {
   "cell_type": "markdown",
   "metadata": {},
   "source": [
    "Agora vamos fazer importar o dataset de consulta candidatos do RS em 2022"
   ]
  },
  {
   "cell_type": "code",
   "execution_count": null,
   "metadata": {},
   "outputs": [],
   "source": [
    "df_consulta_cand = pd.read_csv( 'datasets/consulta_cand_2022_RS.csv', encoding='latin1', sep=';')\n",
    "\n",
    "pd.set_option('display.max_columns', None)\n",
    "df_consulta_cand.head(n=5)"
   ]
  },
  {
   "cell_type": "markdown",
   "metadata": {},
   "source": [
    "Depois de importar e fazer uma primeira validação vamos remover as colunas desnecessarias: "
   ]
  },
  {
   "cell_type": "code",
   "execution_count": null,
   "metadata": {},
   "outputs": [],
   "source": [
    "df_consulta_cand.drop([\"DT_GERACAO\",\n",
    "\"HH_GERACAO\",\n",
    "\"ANO_ELEICAO\",\n",
    "\"TP_ABRANGENCIA\",\n",
    "\"SG_UE\",\n",
    "\"NM_UE\",\n",
    "\"SQ_CANDIDATO\",\n",
    "\"NM_URNA_CANDIDATO\",\n",
    "\"NM_SOCIAL_CANDIDATO\",\n",
    "\"NR_CPF_CANDIDATO\",\n",
    "\"DS_EMAIL\",\n",
    "\"CD_SITUACAO_CANDIDATURA\",\n",
    "\"DS_SITUACAO_CANDIDATURA\",\n",
    "\"NR_FEDERACAO\",\n",
    "\"NM_FEDERACAO\",\n",
    "\"SG_FEDERACAO\",\n",
    "\"DS_COMPOSICAO_FEDERACAO\",\n",
    "\"SQ_COLIGACAO\",\n",
    "\"NM_COLIGACAO\",\n",
    "\"DS_COMPOSICAO_COLIGACAO\",\n",
    "\"SG_UF_NASCIMENTO\",\n",
    "\"DT_NASCIMENTO\",\n",
    "\"NR_TITULO_ELEITORAL_CANDIDATO\",\n",
    "\"CD_GENERO\",\n",
    "\"CD_GRAU_INSTRUCAO\",\n",
    "\"CD_ESTADO_CIVIL\",\n",
    "\"DS_ESTADO_CIVIL\",\n",
    "\"CD_COR_RACA\",\n",
    "\"DS_COR_RACA\",\n",
    "\"CD_OCUPACAO\",], axis=1, inplace=True)"
   ]
  },
  {
   "cell_type": "code",
   "execution_count": null,
   "metadata": {},
   "outputs": [],
   "source": [
    "pd.set_option('display.max_columns', None)\n",
    "df_consulta_cand.head(n=3, )"
   ]
  },
  {
   "cell_type": "markdown",
   "metadata": {},
   "source": [
    "Agora vamos realizar a importação do ultimo dataset, o de votação por seção para verificarmos quantos votos cada condidato "
   ]
  },
  {
   "cell_type": "code",
   "execution_count": null,
   "metadata": {},
   "outputs": [],
   "source": [
    "df_votacao_secao = pd.read_csv( 'datasets/votacao_secao_2022_RS.csv', encoding='latin1', sep=';')\n",
    "\n",
    "pd.set_option('display.max_columns', None)\n",
    "df_votacao_secao.head(n=5)"
   ]
  },
  {
   "cell_type": "markdown",
   "metadata": {},
   "source": [
    "Desse dataset precisamos somente do Número do candidato e da quantdade de votos. "
   ]
  },
  {
   "cell_type": "code",
   "execution_count": null,
   "metadata": {},
   "outputs": [],
   "source": [
    "df_votacao_secao = df_votacao_secao[['NR_VOTAVEL', 'QT_VOTOS']]\n",
    "print(df_votacao_secao)"
   ]
  },
  {
   "cell_type": "markdown",
   "metadata": {},
   "source": [
    "# Tratamento de atributos com valores ausentes\n",
    "\n",
    "Agora depois de limpar colunas que não fazer falta para nos vamos verificar os valores faltantes."
   ]
  },
  {
   "cell_type": "code",
   "execution_count": null,
   "metadata": {},
   "outputs": [],
   "source": [
    "nulos = df_receita_candidatos[df_receita_candidatos.isin(['#NULO']).any(axis=1)].index\n",
    "\n",
    "df_receita_candidatos.iloc[nulos]"
   ]
  },
  {
   "cell_type": "markdown",
   "metadata": {},
   "source": [
    "Como percebemos acima temos alguns valor de `DS_FONTE_RECEITA` , `DS_ORIGEM_RECEITA`  e em `DS_ESPECIE_RECEITA`que estão como nulo então vamos subistituir os mesmos por valores defaults"
   ]
  },
  {
   "cell_type": "code",
   "execution_count": null,
   "metadata": {},
   "outputs": [],
   "source": [
    "df_receita_candidatos['DS_FONTE_RECEITA'] = df_receita_candidatos['DS_FONTE_RECEITA'].replace('#NULO', 'OUTROS RECURSOS')\n",
    "df_receita_candidatos['DS_ORIGEM_RECEITA'] = df_receita_candidatos['DS_ORIGEM_RECEITA'].replace('#NULO', 'OUTROS')\n",
    "df_receita_candidatos['DS_ESPECIE_RECEITA'] = df_receita_candidatos['DS_ESPECIE_RECEITA'].replace('#NULO', 'OUTROS')\n"
   ]
  },
  {
   "cell_type": "markdown",
   "metadata": {},
   "source": [
    "Agora vamos verificar se não temos mais nenhum valor faltante"
   ]
  },
  {
   "cell_type": "code",
   "execution_count": null,
   "metadata": {},
   "outputs": [],
   "source": [
    "nulos = df_receita_candidatos[df_receita_candidatos.isin(['#NULO']).any(axis=1)].index\n",
    "\n",
    "df_receita_candidatos.iloc[nulos]"
   ]
  },
  {
   "cell_type": "markdown",
   "metadata": {},
   "source": [
    "Agora vamos tratar o campo `VR_RECEITA` que será nosso campo principal para realização de metricas, então vamos converter o mesmo para numerico."
   ]
  },
  {
   "cell_type": "code",
   "execution_count": null,
   "metadata": {},
   "outputs": [],
   "source": [
    "df_receita_candidatos['VR_RECEITA'] = pd.to_numeric(df_receita_candidatos['VR_RECEITA'].str.replace(',', '.'), errors='coerce')\n",
    "print(df_receita_candidatos['VR_RECEITA'])\n"
   ]
  },
  {
   "cell_type": "markdown",
   "metadata": {},
   "source": [
    "Agora vamos fazer o mesmo processo de verificação de valores faltantantes para o dataset de consulta candidatos"
   ]
  },
  {
   "cell_type": "code",
   "execution_count": null,
   "metadata": {},
   "outputs": [],
   "source": [
    "nulos = df_consulta_cand[df_consulta_cand.isin(['#NULO']).any(axis=1)].index\n",
    "\n",
    "df_consulta_cand.iloc[nulos]"
   ]
  },
  {
   "cell_type": "markdown",
   "metadata": {},
   "source": [
    "Para o dataset de consulta candidatos não encontramos nenhum valor nulo como podemos ver acima."
   ]
  },
  {
   "cell_type": "markdown",
   "metadata": {},
   "source": [
    "Agora vamos verificar se existem valores nulos no dataframe de votação por seção"
   ]
  },
  {
   "cell_type": "code",
   "execution_count": null,
   "metadata": {},
   "outputs": [],
   "source": [
    "nulos = df_votacao_secao[df_votacao_secao.isin(['#NULO']).any(axis=1)].index\n",
    "\n",
    "df_votacao_secao.iloc[nulos]"
   ]
  },
  {
   "cell_type": "markdown",
   "metadata": {},
   "source": [
    "Para o dataset de consulta candidatos não encontramos nenhum valor nulo como podemos ver acima."
   ]
  },
  {
   "cell_type": "markdown",
   "metadata": {},
   "source": [
    "# Criação do dataset final\n",
    "\n",
    "Agora para montar o power bi e fazer a analise dos dados vamos montar um dataset que terá o numero do candidato, o nome do candidato, o total de receita, o total de votos e se ele foi eleito ou não"
   ]
  },
  {
   "cell_type": "code",
   "execution_count": null,
   "metadata": {},
   "outputs": [],
   "source": [
    "qt_votos_candidatos = df_votacao_secao.groupby('NR_VOTAVEL')['QT_VOTOS'].sum().reset_index()\n",
    "total_receita_candidatos = df_receita_candidatos.groupby('NR_CANDIDATO')['VR_RECEITA'].sum().reset_index()\n",
    "\n",
    "df_receita_candidatos.head(n=5)\n",
    "\n",
    "df_consulta_cand['QT_VOTOS'] = None\n",
    "df_consulta_cand['TOTAL_RECEITA'] = None\n",
    "for index, row in df_consulta_cand.iterrows():\n",
    "    if not qt_votos_candidatos[qt_votos_candidatos['NR_VOTAVEL'] == row['NR_CANDIDATO']]['QT_VOTOS'].empty:\n",
    "        df_consulta_cand.at[index, 'QT_VOTOS'] = qt_votos_candidatos[qt_votos_candidatos['NR_VOTAVEL'] == row['NR_CANDIDATO']]['QT_VOTOS'].iloc[0]\n",
    "    else:\n",
    "        df_consulta_cand.at[index, 'QT_VOTOS'] = 0;\n",
    "    \n",
    "    if not total_receita_candidatos[total_receita_candidatos['NR_CANDIDATO'] == row['NR_CANDIDATO']]['VR_RECEITA'].empty:\n",
    "        df_consulta_cand.at[index, 'TOTAL_RECEITA'] = total_receita_candidatos[total_receita_candidatos['NR_CANDIDATO'] == row['NR_CANDIDATO']]['VR_RECEITA'].iloc[0]\n",
    "    else:\n",
    "        df_consulta_cand.at[index, 'TOTAL_RECEITA'] = 0;\n",
    "\n",
    "    \n",
    "df_consulta_cand.head(n=5)"
   ]
  },
  {
   "cell_type": "markdown",
   "metadata": {},
   "source": [
    "Agora vamos gravar o novo dataset em um arquivo csv para utilizar no notebook de analise a utilizar no power bi."
   ]
  },
  {
   "cell_type": "code",
   "execution_count": null,
   "metadata": {},
   "outputs": [],
   "source": [
    "df_consulta_cand['TOTAL_RECEITA'] = df_consulta_cand['TOTAL_RECEITA'].apply(lambda x: f\"{x:,.2f}\".replace(\",\", \"X\").replace(\".\", \",\").replace(\"X\", \".\"))\n",
    "\n",
    "df_consulta_cand.to_csv('dataset-canditatos-receita-e-votos.csv', index=False, encoding='utf-8', sep=';')"
   ]
  }
 ],
 "metadata": {
  "kernelspec": {
   "display_name": "t3Coleta",
   "language": "python",
   "name": "python3"
  },
  "language_info": {
   "codemirror_mode": {
    "name": "ipython",
    "version": 3
   },
   "file_extension": ".py",
   "mimetype": "text/x-python",
   "name": "python",
   "nbconvert_exporter": "python",
   "pygments_lexer": "ipython3",
   "version": "3.7.1"
  }
 },
 "nbformat": 4,
 "nbformat_minor": 2
}
