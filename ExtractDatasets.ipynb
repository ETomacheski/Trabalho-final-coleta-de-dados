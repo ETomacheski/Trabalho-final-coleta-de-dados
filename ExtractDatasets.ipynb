{
 "cells": [
  {
   "cell_type": "markdown",
   "metadata": {},
   "source": [
    "# Descompactar datasets\n",
    "\n",
    "Antes de rodar o dataset de `DataPreparation` precisamos descompactar os datasets que são usadados como base."
   ]
  },
  {
   "cell_type": "code",
   "execution_count": null,
   "metadata": {},
   "outputs": [],
   "source": [
    "import zipfile\n",
    "import os\n",
    "\n",
    "output_path = \"datasets.zip\"  # Nome do arquivo ZIP a ser salvo\n",
    "\n",
    "descompactar_para = \"datasets\"  # Pasta onde os arquivos serão extraídos\n",
    "print(f\"Descompactando o arquivo {output_path} para a pasta '{descompactar_para}'...\")\n",
    "\n",
    "try:\n",
    "    with zipfile.ZipFile(output_path, 'r') as zip_ref:\n",
    "        zip_ref.extractall(descompactar_para)\n",
    "    print(\"Arquivo descompactado com sucesso.\")\n",
    "except zipfile.BadZipFile:\n",
    "    print(\"Erro: O arquivo baixado não é um arquivo ZIP válido.\")\n",
    "\n",
    "print(\"Arquivos descompactados:\")\n",
    "for root, dirs, files in os.walk(descompactar_para):\n",
    "    for file in files:\n",
    "        print(os.path.join(root, file))"
   ]
  }
 ],
 "metadata": {
  "kernelspec": {
   "display_name": "t3Coleta",
   "language": "python",
   "name": "python3"
  },
  "language_info": {
   "codemirror_mode": {
    "name": "ipython",
    "version": 3
   },
   "file_extension": ".py",
   "mimetype": "text/x-python",
   "name": "python",
   "nbconvert_exporter": "python",
   "pygments_lexer": "ipython3",
   "version": "3.7.1"
  }
 },
 "nbformat": 4,
 "nbformat_minor": 2
}
